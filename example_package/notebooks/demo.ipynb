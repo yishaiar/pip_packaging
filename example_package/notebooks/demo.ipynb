{
 "cells": [
  {
   "cell_type": "code",
   "execution_count": null,
   "metadata": {},
   "outputs": [],
   "source": [
    "from example_package_YOUR_USERNAME_HERE import my_functions\n",
    "my_functions.add_one(2)\n",
    "\n",
    "from example_package_YOUR_USERNAME_HERE import my_functions, my_classes\n",
    "\n",
    "# Use the function\n",
    "print(my_functions.greet(\"Alice\"))\n",
    "\n",
    "# Use the class\n",
    "p = my_classes.Person(\"Bob\")\n",
    "print(p.say_hello())"
   ]
  }
 ],
 "metadata": {
  "language_info": {
   "name": "python"
  }
 },
 "nbformat": 4,
 "nbformat_minor": 2
}
